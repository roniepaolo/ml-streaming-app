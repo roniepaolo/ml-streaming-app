{
 "cells": [
  {
   "cell_type": "markdown",
   "source": [
    "# Churn Modelling\n",
    "\n",
    "Author: Ronie Arauco\n",
    "\n",
    "The dataset available in [Kaggle](https://www.kaggle.com/datasets/shrutimechlearn/churn-modelling) is part of the customer information of a bank and it's intended to be used for churn prediction (the fact whether the customer left the bank or not)."
   ],
   "metadata": {
    "collapsed": false
   }
  },
  {
   "cell_type": "markdown",
   "source": [
    "## 1. Libraries"
   ],
   "metadata": {
    "collapsed": false
   }
  },
  {
   "cell_type": "code",
   "execution_count": 13,
   "metadata": {
    "collapsed": true
   },
   "outputs": [],
   "source": [
    "import bentoml\n",
    "from imblearn.pipeline import Pipeline\n",
    "from imblearn.over_sampling import SMOTE\n",
    "from imblearn.under_sampling import RandomUnderSampler\n",
    "import pandas as pd\n",
    "from pathlib import Path\n",
    "from sklearn.model_selection import train_test_split\n",
    "from sklearn.model_selection import RepeatedStratifiedKFold\n",
    "from sklearn.model_selection import GridSearchCV\n",
    "from sklearn.metrics import classification_report\n",
    "import xgboost as xgb"
   ]
  },
  {
   "cell_type": "markdown",
   "source": [
    "## 2. Preprocessing"
   ],
   "metadata": {
    "collapsed": false
   }
  },
  {
   "cell_type": "code",
   "execution_count": 14,
   "outputs": [],
   "source": [
    "# Reading the raw data\n",
    "df = pd.read_csv(Path(\"data/Churn_Modelling.csv\"))\n",
    "\n",
    "# Dropping categorical variables\n",
    "df.drop(labels=[\"RowNumber\", \"CustomerId\", \"Surname\"], axis=1, inplace=True)\n",
    "\n",
    "# Applying one-hot encoding\n",
    "df = pd.get_dummies(df, columns=[\"Geography\", \"Gender\"], drop_first=True)\n",
    "\n",
    "# Changing case of columns\n",
    "df.columns = [c.lower() for c in df.columns]"
   ],
   "metadata": {
    "collapsed": false
   }
  },
  {
   "cell_type": "markdown",
   "source": [
    "## 3. Modelling"
   ],
   "metadata": {
    "collapsed": false
   }
  },
  {
   "cell_type": "code",
   "execution_count": 15,
   "outputs": [],
   "source": [
    "# Generating design matrix and target vector\n",
    "X = df.drop(\"exited\", axis=1)\n",
    "y = df[[\"exited\"]]\n",
    "\n",
    "# Stratified splitting the dataset\n",
    "X_train, X_test, y_train, y_test = train_test_split(X, y, stratify=y, random_state=42)"
   ],
   "metadata": {
    "collapsed": false
   }
  },
  {
   "cell_type": "code",
   "execution_count": 16,
   "outputs": [
    {
     "name": "stdout",
     "output_type": "stream",
     "text": [
      "Best ROC AUC 0.8585425367141499\n",
      "Using {'model__max_depth': 5, 'model__n_estimators': 14, 'model__scale_pos_weight': 2, 'over__k_neighbors': 6, 'over__sampling_strategy': 0.3, 'under__sampling_strategy': 0.3}\n",
      "\n",
      "              precision    recall  f1-score   support\n",
      "\n",
      "           0       0.91      0.90      0.91      1991\n",
      "           1       0.63      0.67      0.65       509\n",
      "\n",
      "    accuracy                           0.85      2500\n",
      "   macro avg       0.77      0.79      0.78      2500\n",
      "weighted avg       0.86      0.85      0.86      2500\n",
      "\n"
     ]
    }
   ],
   "source": [
    "# The combination of SMOTE and under-sampling performs better than plain under-sampling\n",
    "over = SMOTE(random_state=42)\n",
    "under = RandomUnderSampler(random_state=42)\n",
    "model = xgb.XGBClassifier(random_state=42, n_jobs=-1)\n",
    "steps = [(\"over\", over), (\"under\", under), (\"model\", model)]\n",
    "pipeline = Pipeline(steps=steps)\n",
    "\n",
    "# GridSearchCV and SMOTE parameters grid\n",
    "param_grid = {\n",
    "  \"over__sampling_strategy\": [0.3],\n",
    "  \"under__sampling_strategy\": [0.3, 0.4, 0.5],\n",
    "  \"over__k_neighbors\": [5, 6, 7],\n",
    "  \"model__max_depth\": [5, 6, 7],\n",
    "  \"model__n_estimators\": [13, 14],\n",
    "  \"model__scale_pos_weight\": [1, 2, 3]\n",
    "}\n",
    "\n",
    "# Repeated stratified k-fold reduce the noise in the estimated model performance\n",
    "cv = RepeatedStratifiedKFold(n_splits=10, n_repeats=3, random_state=42)\n",
    "grid = GridSearchCV(\n",
    "    estimator=pipeline,\n",
    "    param_grid=param_grid,\n",
    "    scoring=\"roc_auc\",\n",
    "    n_jobs=-1,\n",
    "    cv=cv\n",
    ")\n",
    "grid.fit(X_train, y_train)\n",
    "\n",
    "# Report\n",
    "print(f\"Best ROC AUC {grid.best_score_}\\nUsing {grid.best_params_}\\n\")\n",
    "y_pred = grid.predict(X_test)\n",
    "print(classification_report(y_test, y_pred))"
   ],
   "metadata": {
    "collapsed": false
   }
  },
  {
   "cell_type": "markdown",
   "source": [
    "## 4. Saving the model"
   ],
   "metadata": {
    "collapsed": false
   }
  },
  {
   "cell_type": "code",
   "execution_count": 17,
   "outputs": [
    {
     "name": "stdout",
     "output_type": "stream",
     "text": [
      "Model saved: Model(tag=\"churn_model:2ugnfyft7gf4qaav\")\n"
     ]
    }
   ],
   "source": [
    "# Saving the model\n",
    "model_id = bentoml.sklearn.save_model(\"churn_model\", grid)\n",
    "print(f\"Model saved: {model_id}\")"
   ],
   "metadata": {
    "collapsed": false
   }
  }
 ],
 "metadata": {
  "kernelspec": {
   "display_name": "Python 3",
   "language": "python",
   "name": "python3"
  },
  "language_info": {
   "codemirror_mode": {
    "name": "ipython",
    "version": 2
   },
   "file_extension": ".py",
   "mimetype": "text/x-python",
   "name": "python",
   "nbconvert_exporter": "python",
   "pygments_lexer": "ipython2",
   "version": "2.7.6"
  }
 },
 "nbformat": 4,
 "nbformat_minor": 0
}
